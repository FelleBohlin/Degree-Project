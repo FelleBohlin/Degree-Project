{
 "cells": [
  {
   "cell_type": "code",
   "execution_count": 2,
   "id": "b65a6ac0-eb4b-477b-a847-758fe6dcc09b",
   "metadata": {},
   "outputs": [],
   "source": []
  },
  {
   "cell_type": "code",
   "execution_count": 5,
   "id": "e090d672-5a43-46f3-80e7-d1f4127b0888",
   "metadata": {},
   "outputs": [
    {
     "name": "stdin",
     "output_type": "stream",
     "text": [
      "Enter the path to your text file:  test.txt\n"
     ]
    },
    {
     "name": "stdout",
     "output_type": "stream",
     "text": [
      "Detected Sensitive Information in Text:\n",
      "Jag har identifierat följande känslig information:\n",
      "\n",
      "Namn: Felix Böhlin\n",
      "Telefonnummer: 076-1234567\n",
      "E-postadress: felix.2000@gmail.com\n",
      "Adress: Västerlånggatan 24, 19164 Sollentuna\n",
      "Bankkortsnummer: 3425-2457-9645-8943, 1234-1234-1234-1234\n",
      "\n",
      "Anonymized Text:\n",
      "mitt svenska kredit kort nummer är 3425-2457-9645-8943. hej, jag heter Sofia Nilsson och jag är 23 år gammal och jobbar som systemutvecklare hos TietoEvry. Du kan nå mig på 08-76 72 43 eller anderssongerd@example.net och jag bor i Sollentuna 19164 på Västerlånggatan 24. mitt kort är 1234-1234-1234-1234. \n"
     ]
    }
   ],
   "source": [
    "\n"
   ]
  },
  {
   "cell_type": "code",
   "execution_count": 16,
   "id": "84c7a9fc-26a7-45f4-b4b6-3086d3e6d824",
   "metadata": {},
   "outputs": [],
   "source": [
    "from langchain.chains import SimpleSequentialChain\n",
    "from dotenv import load_dotenv\n",
    "import os\n",
    "import requests\n",
    "import json\n",
    "from langchain_openai import OpenAI\n",
    "from langchain.chains import LLMChain\n"
   ]
  },
  {
   "cell_type": "code",
   "execution_count": 18,
   "id": "b1206617-b35e-4697-a8ed-3462ec17d37f",
   "metadata": {},
   "outputs": [
    {
     "data": {
      "text/plain": [
       "True"
      ]
     },
     "execution_count": 18,
     "metadata": {},
     "output_type": "execute_result"
    }
   ],
   "source": [
    "load_dotenv()"
   ]
  },
  {
   "cell_type": "markdown",
   "id": "c86649df-941c-4aa9-8692-1e7ce751cd63",
   "metadata": {},
   "source": [
    "Chacks that the OpenRouter API key is in the env file."
   ]
  },
  {
   "cell_type": "code",
   "execution_count": 20,
   "id": "087456ad-a808-44f4-9a52-5f3f46f5ccf3",
   "metadata": {},
   "outputs": [],
   "source": [
    "\n",
    "OPENROUTER_API_KEY = os.environ[\"OPENROUTER_API_KEY\"]\n",
    "if OPENROUTER_API_KEY is None:\n",
    "    raise ValueError(\"OPENROUTER_API_KEY does not exist, add it to env\")"
   ]
  },
  {
   "cell_type": "markdown",
   "id": "40e4ac88-b3ae-4217-b42f-ce3fb5b61213",
   "metadata": {},
   "source": [
    "**Generate syntethic data**\n",
    "\n",
    "If you need to create synthetic data can you run this cell that will generate data with made up PII which can be used to test the system"
   ]
  },
  {
   "cell_type": "code",
   "execution_count": 23,
   "id": "389974b0-de54-4fbb-94fa-5c13a472aec9",
   "metadata": {},
   "outputs": [
    {
     "name": "stdout",
     "output_type": "stream",
     "text": [
      "Texter genererade och sparade.\n"
     ]
    }
   ],
   "source": [
    "import openai\n",
    "\n",
    "#Enter the name of the folder where the texts will be generated.\n",
    "#Creates a new folder if one does not exist\n",
    "output_folder = \"generated_texts3\"\n",
    "os.makedirs(output_folder, exist_ok=True)\n",
    "\n",
    "prompt = f\"\"\"\n",
    "Jag skapar output träningsdata som ska användas för att testa min modell.\n",
    "Användandet ska vara till att generera en löpande text som ska innehålla dummy data av påhittad personlig känslig information.\n",
    "Generera endast en löpande text, ingen annan output, ingen förklaring eller sammanfattningar\n",
    "\n",
    "Exempel på hur texten kan se ut:\n",
    "'Jag träffade en person som hette Johan Svensson igår. Han gav mig sitt telefonnummer 123-456-7890 samt hans e-postadress johan.svensson@gmail.com ...'\n",
    "\n",
    "Personlig känslig information inkluderar oftast:\n",
    "Person/Namn - Detta inkluderar förnamn, mellannamn, efternamn eller hela namn på individer.\n",
    "Telefonnummer - Alla telefonnummer, inklusive avgiftsfria nummer.\n",
    "Adress - Kompletta eller partiella adresser, inklusive gata, postnummer, husnummer, stad och stat.\n",
    "E-post - Alla e-postadresser.\n",
    "Numeriskt Identifierare - Alla numeriska eller alfanumeriska identifierare som ärendenummer, medlemsnummer, biljettnummer, bankkontonummer, IP-adresser, produktnycklar, serienummer, spårningsnummer för frakt, etc.\n",
    "Kreditkort - Alla kreditkortsnummer, säkerhetskoder eller utgångsdatum.\n",
    "\"\"\"\n",
    "    \n",
    "def query(prompt, temperature=0.8):\n",
    "    response = requests.post(\n",
    "        url=\"https://openrouter.ai/api/v1/chat/completions\",\n",
    "        headers={\n",
    "            \"Authorization\": f\"Bearer {OPENROUTER_API_KEY}\",\n",
    "            \"Content-Type\": \"application/json\"\n",
    "        },\n",
    "        data=json.dumps({\n",
    "            \"model\": \"openai/gpt-4-turbo\",  # using openai gpt4 turbo for the generating of texts\n",
    "            \"messages\": [\n",
    "                {\"role\": \"system\", \"content\": \"Du är en hjälpful assistent, designad för att generera text data.\"},\n",
    "                {\"role\": \"user\", \"content\": prompt}\n",
    "            ],\n",
    "            \"temperature\": temperature,  #  influences the variety in the model's responses, is set in the function parameter.\n",
    "            \"max_tokens\": 300 \n",
    "        })\n",
    "    )\n",
    "\n",
    "    if response.status_code == 200:\n",
    "        response_data = response.json()\n",
    "        return response_data['choices'][0]['message']['content']\n",
    "    else:\n",
    "        raise Exception(f\"API request failed with status code {response.status_code}: {response.text}\")\n",
    "\n",
    "\n",
    "for i in range(100):  # Enter the amout of texts to generate\n",
    "    res = query(prompt)\n",
    "    file_path = os.path.join(output_folder, f\"text_{i+1}.txt\")\n",
    "    with open(file_path, \"w\", encoding=\"utf-8\") as file:\n",
    "        file.write(res)\n",
    "    \n",
    "print(\"Texter genererade och sparade.\")\n"
   ]
  },
  {
   "cell_type": "markdown",
   "id": "b4746f21-67fc-4972-8b73-d4becc16a0f9",
   "metadata": {},
   "source": [
    "**Marking Agent**\n",
    "\n",
    "Responsible for marking PII in the text using the Meta llama v3 8b-instructions via the OpenRouter API.\n",
    "Currently are these PII types recognized, Person/name, Phone number, Address, Emails, Numeric identifiers, credit cards"
   ]
  },
  {
   "cell_type": "code",
   "execution_count": 19,
   "id": "b073899b-3ab5-4990-8ed7-e30f0fe079ed",
   "metadata": {},
   "outputs": [],
   "source": [
    "\n",
    "prompt = \"\"\"\n",
    "Du är en säkerhetsassistent.\n",
    "Din uppgift är att identifiera all personligt identifierbar information (PII).\n",
    "När du hittar PII, markera den med de specifika taggarna <name>, <phone>, <email>, etc. som i exemplen nedan.\n",
    "Markera endast texten, skriv ingenting annat. Skriv inga förklaringar eller sammanfattningar, endast markeringar.\n",
    "\n",
    "Exempel på hur texten ska markeras:\n",
    "'Jag träffade en person som hette <name> Johan Svensson </name> igår. Han gav mig sitt telefonnummer <phone> 123-456-7890 </phone> samt hans e-postadress <email> johan.svensson@gmail.com </email>.'\n",
    "'Min vän <name> Maria Andersson </name> bor på <address> Storgatan 1, 12345 Stockholm </address>. Hennes IP-adress är <numerical> 192.168.1.1 </numerical>.'\n",
    "'Kundens kreditkortsnummer är <creditcard> 1234-5678-9876-5432 </creditcard> med utgångsdatum <creditcard> 12/23 </creditcard>.'\n",
    "\n",
    "Personlig känslig information (PII) inkluderar:\n",
    "    Person/Namn - Detta inkluderar förnamn, mellannamn, efternamn eller hela namn på individer.\n",
    "    Telefonnummer - Alla telefonnummer, inklusive avgiftsfria nummer.\n",
    "    Adress - Kompletta eller partiella adresser, inklusive gata, postnummer, husnummer, stad och stat.\n",
    "    E-post - Alla e-postadresser.\n",
    "    Numeriskt Identifierare - Alla numeriska eller alfanumeriska identifierare som ärendenummer, medlemsnummer, biljettnummer, bankkontonummer, IP-adresser, produktnycklar, serienummer, spårningsnummer för frakt, etc.\n",
    "    Kreditkort - Alla kreditkortsnummer, säkerhetskoder eller utgångsdatum.\n",
    "\"\"\"\n",
    "\n",
    "\n",
    "def query(self, text):\n",
    "    prompt = self.prompt_template + \"\\n\\nText:\\n\" + text\n",
    "    response = requests.post(\n",
    "        url=\"https://openrouter.ai/api/v1/chat/completions\",\n",
    "        headers={\n",
    "            \"Authorization\": f\"Bearer {OPENROUTER_API_KEY}\",\n",
    "            \"Content-Type\": \"application/json\"\n",
    "        },\n",
    "        data=json.dumps({\n",
    "            \"model\": \"meta-llama/llama-3-8b-instruct\",\n",
    "            \"messages\": [\n",
    "                {\"role\": \"user\", \"content\": prompt}\n",
    "            ]\n",
    "        })\n",
    "    )\n",
    "\n",
    "    if response.status_code == 200:\n",
    "        response_data = response.json()\n",
    "        return response_data['choices'][0]['message']['content']\n",
    "    else:\n",
    "        raise Exception(f\"API request failed with status code {response.status_code}: {response.text}\")\n",
    "\n",
    "def process_folder(input_folder, output_folder, marking_agent):\n",
    "    if not os.path.exists(output_folder):\n",
    "        os.makedirs(output_folder)\n",
    "\n",
    "    for filename in os.listdir(input_folder):\n",
    "        input_path = os.path.join(input_folder, filename)\n",
    "        output_path = os.path.join(output_folder, filename)\n",
    "\n",
    "        if os.path.isfile(input_path):\n",
    "            with open(input_path, 'r', encoding='utf-8') as file:\n",
    "                text = file.read()\n",
    "            \n",
    "            marked_text = marking_agent.query(text)\n",
    "            \n",
    "            with open(output_path, 'w', encoding='utf-8') as file:\n",
    "                file.write(marked_text)\n",
    "\n",
    "\n",
    "\n",
    "input_folder = \"generated_texts3\"  # Input folder name\n",
    "output_folder = \"marked_texts\"    # Output folder name\n",
    "\n",
    "process_folder(input_folder, output_folder, pii_detector)\n"
   ]
  },
  {
   "cell_type": "markdown",
   "id": "52953d39-0920-4620-9365-67552eaa9bff",
   "metadata": {},
   "source": [
    "**Anonymization agent**\n",
    "\n",
    "Replaces the markers with an anonymization tag"
   ]
  },
  {
   "cell_type": "code",
   "execution_count": 31,
   "id": "81a1c269-4333-4b34-9333-4c988e45a9a5",
   "metadata": {},
   "outputs": [],
   "source": [
    "\n",
    "\n",
    "def anonymize(text):\n",
    "    # Replaces the PII with [ANONYMIZED] and removes the brackets\n",
    "    anonymized_text = re.sub(r'<.*?>.*?</.*?>', '[ANONYMIZED]', text)\n",
    "    return anonymized_text\n",
    "\n",
    "def process_folder(input_folder, output_folder):\n",
    "    if not os.path.exists(output_folder):\n",
    "        os.makedirs(output_folder)\n",
    "\n",
    "    for filename in os.listdir(input_folder):\n",
    "        input_path = os.path.join(input_folder, filename)\n",
    "        output_path = os.path.join(output_folder, filename)\n",
    "\n",
    "        if os.path.isfile(input_path):\n",
    "            with open(input_path, 'r', encoding='utf-8') as file:\n",
    "                text = file.read()\n",
    "            \n",
    "            anonymized_text = anonymize(text)\n",
    "\n",
    "            with open(output_path, 'w', encoding='utf-8') as file:\n",
    "                file.write(anonymized_text)\n",
    "\n",
    "input_folder = \"marked_texts\"\n",
    "output_folder = \"anonymized_texts3\"\n",
    "\n",
    "process_folder(input_folder, output_folder)\n",
    "\n",
    "\n"
   ]
  },
  {
   "cell_type": "markdown",
   "id": "fd2edd43-36c6-429a-9343-192bcdef07a9",
   "metadata": {},
   "source": [
    "**Verification agent**\n",
    "\n",
    "Double checks that there are no markers left in the texts.\n",
    "There could still be markers if they existed in the original text and where not created by the marking agent"
   ]
  },
  {
   "cell_type": "code",
   "execution_count": 39,
   "id": "df522814-0887-4df0-a26a-2e80d9c85cd1",
   "metadata": {},
   "outputs": [
    {
     "name": "stdout",
     "output_type": "stream",
     "text": [
      "[]\n"
     ]
    }
   ],
   "source": [
    "def verify(text):\n",
    "    # Verify if all PII has been anonymized\n",
    "    return '<' not in text and '>' not in text\n",
    "\n",
    "def verify_folder(folder_path): \n",
    "    failed_files = []\n",
    "    for filename in os.listdir(folder_path):\n",
    "        file_path = os.path.join(folder_path, filename)\n",
    "        if os.path.isfile(file_path):\n",
    "            with open(file_path, 'r', encoding='utf-8') as file:\n",
    "                text = file.read()\n",
    "                if not verify(text):\n",
    "                    failed_files.append(filename)\n",
    "    return failed_files\n",
    "    \n",
    "print(verify_folder(\"anonymized_texts2\"))"
   ]
  },
  {
   "cell_type": "code",
   "execution_count": 29,
   "id": "85fdf0d8-7130-46d8-91f8-6da7415edca1",
   "metadata": {},
   "outputs": [],
   "source": [
    "\n",
    "\n",
    "class PiiProcessor:\n",
    "    def __init__(self, marking_agent, anonymization_agent, verification_agent):\n",
    "        self.marking_agent = marking_agent\n",
    "        self.anonymization_agent = anonymization_agent\n",
    "        self.verification_agent = verification_agent\n",
    "\n",
    "        # Define the chain of processes using LLMChain\n",
    "        self.chain = self.create_chain()\n",
    "\n",
    "    def create_chain(self):\n",
    "        # Define the LLM for marking\n",
    "        marking_prompt = PromptTemplate(input_variables=[\"text\"], template=self.marking_agent.prompt_template + \"\\n\\nText:\\n{text}\")\n",
    "        marking_llm = LLaMA(api_key=self.marking_agent.api_key, model=self.marking_agent.model)\n",
    "        marking_chain = LLMChain(prompt=marking_prompt, llm=marking_llm)\n",
    "\n",
    "        # Define the anonymization and verification as functions\n",
    "        def anonymization_step(text):\n",
    "            return self.anonymization_agent.anonymize(text)\n",
    "        \n",
    "        def verification_step(text):\n",
    "            if not self.verification_agent.verify(text):\n",
    "                raise Exception(\"Anonymization failed for the text.\")\n",
    "            return text\n",
    "\n",
    "        return LLMChain(\n",
    "            chains=[\n",
    "                marking_chain,\n",
    "                anonymization_step,\n",
    "                verification_step\n",
    "            ]\n",
    "        )\n",
    "\n",
    "    def process_text(self, text):\n",
    "        return self.chain.run({\"text\": text})\n"
   ]
  },
  {
   "cell_type": "code",
   "execution_count": 30,
   "id": "1bb72e4d-ca99-46b7-8ac1-102e3781673b",
   "metadata": {},
   "outputs": [
    {
     "ename": "NameError",
     "evalue": "name 'LLaMA' is not defined",
     "output_type": "error",
     "traceback": [
      "\u001b[1;31m---------------------------------------------------------------------------\u001b[0m",
      "\u001b[1;31mNameError\u001b[0m                                 Traceback (most recent call last)",
      "Cell \u001b[1;32mIn[30], line 7\u001b[0m\n\u001b[0;32m      4\u001b[0m verification_agent \u001b[38;5;241m=\u001b[39m VerificationAgent()\n\u001b[0;32m      6\u001b[0m \u001b[38;5;66;03m# Initialize the LangChain processor with the agents\u001b[39;00m\n\u001b[1;32m----> 7\u001b[0m pii_processor \u001b[38;5;241m=\u001b[39m PiiProcessor(pii_detector, anonymization_agent, verification_agent)\n\u001b[0;32m      9\u001b[0m input_folder \u001b[38;5;241m=\u001b[39m \u001b[38;5;124m\"\u001b[39m\u001b[38;5;124mgenerated_texts2\u001b[39m\u001b[38;5;124m\"\u001b[39m\n\u001b[0;32m     10\u001b[0m output_folder \u001b[38;5;241m=\u001b[39m \u001b[38;5;124m\"\u001b[39m\u001b[38;5;124manonymized_texts2\u001b[39m\u001b[38;5;124m\"\u001b[39m\n",
      "Cell \u001b[1;32mIn[29], line 8\u001b[0m, in \u001b[0;36mPiiProcessor.__init__\u001b[1;34m(self, marking_agent, anonymization_agent, verification_agent)\u001b[0m\n\u001b[0;32m      5\u001b[0m \u001b[38;5;28mself\u001b[39m\u001b[38;5;241m.\u001b[39mverification_agent \u001b[38;5;241m=\u001b[39m verification_agent\n\u001b[0;32m      7\u001b[0m \u001b[38;5;66;03m# Define the chain of processes using LLMChain\u001b[39;00m\n\u001b[1;32m----> 8\u001b[0m \u001b[38;5;28mself\u001b[39m\u001b[38;5;241m.\u001b[39mchain \u001b[38;5;241m=\u001b[39m \u001b[38;5;28mself\u001b[39m\u001b[38;5;241m.\u001b[39mcreate_chain()\n",
      "Cell \u001b[1;32mIn[29], line 13\u001b[0m, in \u001b[0;36mPiiProcessor.create_chain\u001b[1;34m(self)\u001b[0m\n\u001b[0;32m     10\u001b[0m \u001b[38;5;28;01mdef\u001b[39;00m \u001b[38;5;21mcreate_chain\u001b[39m(\u001b[38;5;28mself\u001b[39m):\n\u001b[0;32m     11\u001b[0m     \u001b[38;5;66;03m# Define the LLM for marking\u001b[39;00m\n\u001b[0;32m     12\u001b[0m     marking_prompt \u001b[38;5;241m=\u001b[39m PromptTemplate(input_variables\u001b[38;5;241m=\u001b[39m[\u001b[38;5;124m\"\u001b[39m\u001b[38;5;124mtext\u001b[39m\u001b[38;5;124m\"\u001b[39m], template\u001b[38;5;241m=\u001b[39m\u001b[38;5;28mself\u001b[39m\u001b[38;5;241m.\u001b[39mmarking_agent\u001b[38;5;241m.\u001b[39mprompt_template \u001b[38;5;241m+\u001b[39m \u001b[38;5;124m\"\u001b[39m\u001b[38;5;130;01m\\n\u001b[39;00m\u001b[38;5;130;01m\\n\u001b[39;00m\u001b[38;5;124mText:\u001b[39m\u001b[38;5;130;01m\\n\u001b[39;00m\u001b[38;5;132;01m{text}\u001b[39;00m\u001b[38;5;124m\"\u001b[39m)\n\u001b[1;32m---> 13\u001b[0m     marking_llm \u001b[38;5;241m=\u001b[39m LLaMA(api_key\u001b[38;5;241m=\u001b[39m\u001b[38;5;28mself\u001b[39m\u001b[38;5;241m.\u001b[39mmarking_agent\u001b[38;5;241m.\u001b[39mapi_key, model\u001b[38;5;241m=\u001b[39m\u001b[38;5;28mself\u001b[39m\u001b[38;5;241m.\u001b[39mmarking_agent\u001b[38;5;241m.\u001b[39mmodel)\n\u001b[0;32m     14\u001b[0m     marking_chain \u001b[38;5;241m=\u001b[39m LLMChain(prompt\u001b[38;5;241m=\u001b[39mmarking_prompt, llm\u001b[38;5;241m=\u001b[39mmarking_llm)\n\u001b[0;32m     16\u001b[0m     \u001b[38;5;66;03m# Define the anonymization and verification as functions\u001b[39;00m\n",
      "\u001b[1;31mNameError\u001b[0m: name 'LLaMA' is not defined"
     ]
    }
   ],
   "source": [
    "# Usage\n",
    "pii_detector = MarkingAgent(OPENROUTER_API_KEY)\n",
    "anonymization_agent = AnonymizationAgent()\n",
    "verification_agent = VerificationAgent()\n",
    "\n",
    "# Initialize the LangChain processor with the agents\n",
    "pii_processor = PiiProcessor(pii_detector, anonymization_agent, verification_agent)\n",
    "\n",
    "input_folder = \"generated_texts2\"\n",
    "output_folder = \"anonymized_texts2\"\n",
    "\n",
    "process_folder(input_folder, output_folder, pii_processor)\n",
    "\n",
    "print(\"Texter genererade och sparade.\")\n"
   ]
  },
  {
   "cell_type": "code",
   "execution_count": null,
   "id": "ee17905f-cf33-4653-bb50-79a47ed5c953",
   "metadata": {},
   "outputs": [],
   "source": [
    "# Initialize the chain with the agents\n",
    "pii_chain = PIIAnonymizationChain(pii_detector, pii_anonymizer, pii_verifier)\n",
    "\n",
    "# Test with some input text\n",
    "input_text = \"Felix's email is felix@example.com.\"\n",
    "output_text = pii_chain(input_text)\n",
    "print(output_text)"
   ]
  }
 ],
 "metadata": {
  "kernelspec": {
   "display_name": "Python 3 (ipykernel)",
   "language": "python",
   "name": "python3"
  },
  "language_info": {
   "codemirror_mode": {
    "name": "ipython",
    "version": 3
   },
   "file_extension": ".py",
   "mimetype": "text/x-python",
   "name": "python",
   "nbconvert_exporter": "python",
   "pygments_lexer": "ipython3",
   "version": "3.12.2"
  }
 },
 "nbformat": 4,
 "nbformat_minor": 5
}
