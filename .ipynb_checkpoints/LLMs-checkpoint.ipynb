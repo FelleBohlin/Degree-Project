{
 "cells": [
  {
   "cell_type": "code",
   "execution_count": 2,
   "id": "b65a6ac0-eb4b-477b-a847-758fe6dcc09b",
   "metadata": {},
   "outputs": [],
   "source": []
  },
  {
   "cell_type": "code",
   "execution_count": null,
   "id": "e090d672-5a43-46f3-80e7-d1f4127b0888",
   "metadata": {},
   "outputs": [],
   "source": [
    "\n"
   ]
  },
  {
   "cell_type": "code",
   "execution_count": 119,
   "id": "84c7a9fc-26a7-45f4-b4b6-3086d3e6d824",
   "metadata": {},
   "outputs": [],
   "source": [
    "from dotenv import load_dotenv\n",
    "import os\n",
    "import requests\n",
    "import json\n",
    "from langchain_openai import OpenAI\n",
    "from langchain.chains import LLMChain\n",
    "import re\n",
    "from faker import Faker\n",
    "import pandas as pd\n",
    "import matplotlib.pyplot as plt\n",
    "import time"
   ]
  },
  {
   "cell_type": "code",
   "execution_count": 18,
   "id": "b1206617-b35e-4697-a8ed-3462ec17d37f",
   "metadata": {},
   "outputs": [
    {
     "data": {
      "text/plain": [
       "True"
      ]
     },
     "execution_count": 18,
     "metadata": {},
     "output_type": "execute_result"
    }
   ],
   "source": [
    "load_dotenv()"
   ]
  },
  {
   "cell_type": "markdown",
   "id": "c86649df-941c-4aa9-8692-1e7ce751cd63",
   "metadata": {},
   "source": [
    "Chacks that the OpenRouter API key is in the env file."
   ]
  },
  {
   "cell_type": "code",
   "execution_count": 20,
   "id": "087456ad-a808-44f4-9a52-5f3f46f5ccf3",
   "metadata": {},
   "outputs": [],
   "source": [
    "\n",
    "OPENROUTER_API_KEY = os.environ[\"OPENROUTER_API_KEY\"]\n",
    "if OPENROUTER_API_KEY is None:\n",
    "    raise ValueError(\"OPENROUTER_API_KEY does not exist, add it to env\")"
   ]
  },
  {
   "cell_type": "markdown",
   "id": "40e4ac88-b3ae-4217-b42f-ce3fb5b61213",
   "metadata": {},
   "source": [
    "**Generate syntethic data**\n",
    "\n",
    "If you need to create synthetic data can you run this cell that will generate data with made up PII which can be used to test the system"
   ]
  },
  {
   "cell_type": "code",
   "execution_count": 23,
   "id": "389974b0-de54-4fbb-94fa-5c13a472aec9",
   "metadata": {},
   "outputs": [
    {
     "name": "stdout",
     "output_type": "stream",
     "text": [
      "Texter genererade och sparade.\n"
     ]
    }
   ],
   "source": [
    "import openai\n",
    "\n",
    "#Enter the name of the folder where the texts will be generated.\n",
    "#Creates a new folder if one does not exist\n",
    "output_folder = \"generated_texts\"\n",
    "os.makedirs(output_folder, exist_ok=True)\n",
    "\n",
    "prompt = f\"\"\"\n",
    "Jag skapar output träningsdata som ska användas för att testa min modell.\n",
    "Användandet ska vara till att generera en löpande text som ska innehålla dummy data av påhittad personlig känslig information.\n",
    "Generera endast en löpande text, ingen annan output, ingen förklaring eller sammanfattningar\n",
    "\n",
    "Exempel på hur texten kan se ut:\n",
    "'Jag träffade en person som hette Johan Svensson igår. Han gav mig sitt telefonnummer 123-456-7890 samt hans e-postadress johan.svensson@gmail.com ...'\n",
    "\n",
    "Personlig känslig information inkluderar oftast:\n",
    "Person/Namn - Detta inkluderar förnamn, mellannamn, efternamn eller hela namn på individer.\n",
    "Telefonnummer - Alla telefonnummer, inklusive avgiftsfria nummer.\n",
    "Adress - Kompletta eller partiella adresser, inklusive gata, postnummer, husnummer, stad och stat.\n",
    "E-post - Alla e-postadresser.\n",
    "Numeriskt Identifierare - Alla numeriska eller alfanumeriska identifierare som ärendenummer, medlemsnummer, biljettnummer, bankkontonummer,\n",
    "IP-adresser, produktnycklar, serienummer, spårningsnummer för frakt, etc.\n",
    "Kreditkort - Alla kreditkortsnummer, säkerhetskoder eller utgångsdatum.\n",
    "\"\"\"\n",
    "    \n",
    "def query(prompt, temperature=0.8):\n",
    "    response = requests.post(\n",
    "        url=\"https://openrouter.ai/api/v1/chat/completions\",\n",
    "        headers={\n",
    "            \"Authorization\": f\"Bearer {OPENROUTER_API_KEY}\",\n",
    "            \"Content-Type\": \"application/json\"\n",
    "        },\n",
    "        data=json.dumps({\n",
    "            \"model\": \"openai/gpt-4-turbo\",  # using openai gpt4 turbo for the generating of texts\n",
    "            \"messages\": [\n",
    "                {\"role\": \"system\", \"content\": \"Du är en hjälpful assistent, designad för att generera text data.\"},\n",
    "                {\"role\": \"user\", \"content\": prompt}\n",
    "            ],\n",
    "            \"temperature\": temperature,  #  influences the variety in the model's responses, is set in the function parameter.\n",
    "            \"max_tokens\": 300 \n",
    "        })\n",
    "    )\n",
    "\n",
    "    if response.status_code == 200:\n",
    "        response_data = response.json()\n",
    "        return response_data['choices'][0]['message']['content']\n",
    "    else:\n",
    "        raise Exception(f\"API request failed with status code {response.status_code}: {response.text}\")\n",
    "\n",
    "\n",
    "for i in range(100):  # Enter the amout of texts to generate\n",
    "    res = query(prompt)\n",
    "    file_path = os.path.join(output_folder, f\"text_{i+1}.txt\")\n",
    "    with open(file_path, \"w\", encoding=\"utf-8\") as file:\n",
    "        file.write(res)\n",
    "    \n",
    "print(\"Texter genererade och sparade.\")\n"
   ]
  },
  {
   "cell_type": "markdown",
   "id": "b4746f21-67fc-4972-8b73-d4becc16a0f9",
   "metadata": {},
   "source": [
    "**Marking Agent llama-3-8b-instruct**\n",
    "\n",
    "Responsible for marking PII in the text using the Meta llama v3 8b-instructions via the OpenRouter API.\n",
    "Currently are these PII types recognized, Person/name, Phone number, Address, Emails, Numeric identifiers, credit cards"
   ]
  },
  {
   "cell_type": "code",
   "execution_count": 133,
   "id": "b073899b-3ab5-4990-8ed7-e30f0fe079ed",
   "metadata": {},
   "outputs": [
    {
     "name": "stdout",
     "output_type": "stream",
     "text": [
      "Total processing time for all files: 406.60 seconds.\n",
      "Marking complete.\n"
     ]
    }
   ],
   "source": [
    "\n",
    "prompt_template = \"\"\"\n",
    "Du är en säkerhetsassistent.\n",
    "Din uppgift är att identifiera all personligt identifierbar information (PII).\n",
    "När du hittar PII, markera den med de specifika taggarna <name>, <phone>, <email>, etc. som i exemplen nedan.\n",
    "Markera endast texten, skriv ingenting annat. Skriv inga förklaringar eller sammanfattningar, endast markeringar.\n",
    "\n",
    "Exempel på hur texten ska markeras:\n",
    "'Jag träffade en person som hette <name> Johan Svensson </name> igår. Han gav mig sitt telefonnummer <phone> 123-456-7890 </phone> samt hans e-postadress <email> johan.svensson@gmail.com </email>.'\n",
    "'Min vän <name> Maria </name> bor på <address> Storgatan 1, 12345 Stockholm </address>. Hennes IP-adress är <numerical> 192.168.1.1 </numerical>.'\n",
    "'Kundens kreditkortsnummer är <creditcard> 1234-5678-9876-5432 </creditcard> med utgångsdatum <creditcard> 12/23 </creditcard>.'\n",
    "\n",
    "Personlig känslig information (PII) inkluderar:\n",
    "    Person/Namn - Detta inkluderar förnamn, mellannamn, efternamn eller hela namn på individer (inklusive enskilda förnamn eller efternamn, inte bara fullständiga namn.).\n",
    "    Telefonnummer - Alla telefonnummer, inklusive avgiftsfria nummer.\n",
    "    Adress - Kompletta eller partiella adresser, inklusive gata, postnummer, husnummer, stad och stat.\n",
    "    E-post - Alla e-postadresser.\n",
    "    Numeriskt Identifierare - Alla numeriska eller alfanumeriska identifierare som ärendenummer, medlemsnummer, biljettnummer, bankkontonummer, IP-adresser, produktnycklar, serienummer, spårningsnummer för frakt, etc.\n",
    "    Kreditkort - Alla kreditkortsnummer, säkerhetskoder eller utgångsdatum.\n",
    "\"\"\"\n",
    "\n",
    "\n",
    "def query(text):\n",
    "    prompt = prompt_template + \"\\n\\nText:\\n\" + text\n",
    "    response = requests.post(\n",
    "        url=\"https://openrouter.ai/api/v1/chat/completions\",\n",
    "        headers={\n",
    "            \"Authorization\": f\"Bearer {OPENROUTER_API_KEY}\",\n",
    "            \"Content-Type\": \"application/json\"\n",
    "        },\n",
    "        data=json.dumps({\n",
    "            \"model\": \"meta-llama/llama-3-8b-instruct\",\n",
    "            \"messages\": [\n",
    "                {\"role\": \"system\", \"content\": \"Du är en hjälpful assistent, designad för att markera PII i text.\"},\n",
    "                {\"role\": \"user\", \"content\": prompt}\n",
    "            ]\n",
    "        })\n",
    "    )\n",
    "\n",
    "    if response.status_code == 200:\n",
    "        response_data = response.json()\n",
    "        return response_data['choices'][0]['message']['content']\n",
    "    else:\n",
    "        raise Exception(f\"API request failed with status code {response.status_code}: {response.text}\")\n",
    "\n",
    "def process_folder(input_folder, output_folder):\n",
    "    if not os.path.exists(output_folder):\n",
    "        os.makedirs(output_folder)\n",
    "\n",
    "    total_start_time = time.time()\n",
    "    for filename in os.listdir(input_folder):\n",
    "        input_path = os.path.join(input_folder, filename)\n",
    "        output_path = os.path.join(output_folder, filename)\n",
    "\n",
    "        if os.path.isfile(input_path):\n",
    "            with open(input_path, 'r', encoding='utf-8') as file:\n",
    "                text = file.read()\n",
    "            \n",
    "            marked_text = query(text)\n",
    "            \n",
    "            with open(output_path, 'w', encoding='utf-8') as file:\n",
    "                file.write(marked_text)\n",
    "\n",
    "    total_end_time = time.time()  # End timing for all files\n",
    "    total_time = total_end_time - total_start_time\n",
    "\n",
    "    # Print total processing time\n",
    "    print(f\"Total processing time for all files: {total_time:.2f} seconds.\")\n",
    "\n",
    "input_folder = \"generated_texts\"  # Input folder name\n",
    "output_folder = \"marked_texts/llama8b\"    # Output folder name\n",
    "\n",
    "process_folder(input_folder, output_folder)\n",
    "print(\"Marking complete.\")\n"
   ]
  },
  {
   "cell_type": "markdown",
   "id": "256d215e-2aa1-445b-a15e-7d43c0d45b78",
   "metadata": {},
   "source": [
    "**Marking Agent llama-3-70b-instruct**"
   ]
  },
  {
   "cell_type": "code",
   "execution_count": 121,
   "id": "f4922c39-a049-4605-abda-5bc134e9f63d",
   "metadata": {},
   "outputs": [
    {
     "name": "stdout",
     "output_type": "stream",
     "text": [
      "Total processing time for all files: 773.23 seconds.\n",
      "Marking complete.\n"
     ]
    }
   ],
   "source": [
    "\n",
    "prompt_template = \"\"\"\n",
    "Du är en säkerhetsassistent.\n",
    "Din uppgift är att identifiera all personligt identifierbar information (PII).\n",
    "När du hittar PII, markera den med de specifika taggarna <name>, <phone>, <email>, etc. som i exemplen nedan.\n",
    "Markera endast texten, skriv ingenting annat. Skriv inga förklaringar eller sammanfattningar, endast markeringar.\n",
    "\n",
    "Exempel på hur texten ska markeras:\n",
    "'Jag träffade en person som hette <name> Johan Svensson </name> igår. Han gav mig sitt telefonnummer <phone> 123-456-7890 </phone> samt hans e-postadress <email> johan.svensson@gmail.com </email>.'\n",
    "'Min vän <name> Maria </name> bor på <address> Storgatan 1, 12345 Stockholm </address>. Hennes IP-adress är <numerical> 192.168.1.1 </numerical>.'\n",
    "'Kundens kreditkortsnummer är <creditcard> 1234-5678-9876-5432 </creditcard> med utgångsdatum <creditcard> 12/23 </creditcard>.'\n",
    "\n",
    "Personlig identifierbar information (PII) inkluderar:\n",
    "    Person/Namn - Detta inkluderar förnamn, mellannamn, efternamn eller hela namn på individer (inklusive enskilda förnamn eller efternamn, inte bara fullständiga namn).\n",
    "    Telefonnummer - Alla telefonnummer, inklusive avgiftsfria nummer.\n",
    "    Adress - Kompletta eller partiella adresser, inklusive gata, postnummer, husnummer, stad och stat.\n",
    "    E-post - Alla e-postadresser.\n",
    "    Numeriskt Identifierare - Alla numeriska eller alfanumeriska identifierare som ärendenummer, medlemsnummer, biljettnummer, bankkontonummer, IP-adresser, produktnycklar, serienummer, spårningsnummer för frakt, etc.\n",
    "    Kreditkort - Alla kreditkortsnummer, säkerhetskoder eller utgångsdatum.\n",
    "\"\"\"\n",
    "\n",
    "\n",
    "def query(text):\n",
    "    prompt = prompt_template + \"\\n\\nText:\\n\" + text\n",
    "    response = requests.post(\n",
    "        url=\"https://openrouter.ai/api/v1/chat/completions\",\n",
    "        headers={\n",
    "            \"Authorization\": f\"Bearer {OPENROUTER_API_KEY}\",\n",
    "            \"Content-Type\": \"application/json\"\n",
    "        },\n",
    "        data=json.dumps({\n",
    "            \"model\": \"meta-llama/llama-3-70b-instruct\",\n",
    "            \"messages\": [\n",
    "                {\"role\": \"system\", \"content\": \"Du är en hjälpful assistent, designad för att markera PII i text.\"},\n",
    "                {\"role\": \"user\", \"content\": prompt}\n",
    "            ]\n",
    "        })\n",
    "    )\n",
    "\n",
    "    if response.status_code == 200:\n",
    "        response_data = response.json()\n",
    "        return response_data['choices'][0]['message']['content']\n",
    "    else:\n",
    "        raise Exception(f\"API request failed with status code {response.status_code}: {response.text}\")\n",
    "\n",
    "def process_folder(input_folder, output_folder):\n",
    "    if not os.path.exists(output_folder):\n",
    "        os.makedirs(output_folder)\n",
    "\n",
    "    total_start_time = time.time()\n",
    "    for filename in os.listdir(input_folder):\n",
    "        input_path = os.path.join(input_folder, filename)\n",
    "        output_path = os.path.join(output_folder, filename)\n",
    "\n",
    "        if os.path.isfile(input_path):\n",
    "            with open(input_path, 'r', encoding='utf-8') as file:\n",
    "                text = file.read()\n",
    "            \n",
    "            marked_text = query(text)\n",
    "            \n",
    "            with open(output_path, 'w', encoding='utf-8') as file:\n",
    "                file.write(marked_text)\n",
    "\n",
    "    total_end_time = time.time()  # End timing for all files\n",
    "    total_time = total_end_time - total_start_time\n",
    "\n",
    "    # Print total processing time\n",
    "    print(f\"Total processing time for all files: {total_time:.2f} seconds.\")\n",
    "\n",
    "input_folder = \"generated_texts\"  # Input folder name\n",
    "output_folder = \"marked_texts/llama70b\"    # Output folder name\n",
    "\n",
    "process_folder(input_folder, output_folder)\n",
    "print(\"Marking complete.\")\n"
   ]
  },
  {
   "cell_type": "markdown",
   "id": "916a6859-2bd4-45dc-a154-5b104e270972",
   "metadata": {},
   "source": [
    "**Marking Agent qwen-110b**"
   ]
  },
  {
   "cell_type": "code",
   "execution_count": 135,
   "id": "17a827cb-cd4f-465f-9528-8fc39f9ab57b",
   "metadata": {},
   "outputs": [
    {
     "name": "stdout",
     "output_type": "stream",
     "text": [
      "Total processing time for all files: 639.66 seconds.\n",
      "Marking complete.\n"
     ]
    }
   ],
   "source": [
    "\n",
    "prompt_template = \"\"\"\n",
    "Du är en säkerhetsassistent.\n",
    "Din uppgift är att identifiera all personligt identifierbar information (PII).\n",
    "När du hittar PII, markera den med de specifika taggarna <name>, <phone>, <email>, etc. som i exemplen nedan.\n",
    "Markera endast texten, skriv ingenting annat. Skriv inga förklaringar eller sammanfattningar, endast markeringar.\n",
    "\n",
    "Exempel på hur texten ska markeras:\n",
    "'Jag träffade en person som hette <name> Johan Svensson </name> igår. Han gav mig sitt telefonnummer <phone> 123-456-7890 </phone> samt hans e-postadress <email> johan.svensson@gmail.com </email>.'\n",
    "'Min vän <name> Maria </name> bor på <address> Storgatan 1, 12345 Stockholm </address>. Hennes IP-adress är <numerical> 192.168.1.1 </numerical>.'\n",
    "'Kundens kreditkortsnummer är <creditcard> 1234-5678-9876-5432 </creditcard> med utgångsdatum <creditcard> 12/23 </creditcard>.'\n",
    "\n",
    "Personlig känslig information (PII) inkluderar:\n",
    "    Person/Namn - Detta inkluderar förnamn, mellannamn, efternamn eller hela namn på individer (inklusive enskilda förnamn eller efternamn, inte bara fullständiga namn.).\n",
    "    Telefonnummer - Alla telefonnummer, inklusive avgiftsfria nummer.\n",
    "    Adress - Kompletta eller partiella adresser, inklusive gata, postnummer, husnummer, stad och stat.\n",
    "    E-post - Alla e-postadresser.\n",
    "    Numeriskt Identifierare - Alla numeriska eller alfanumeriska identifierare som ärendenummer, medlemsnummer, biljettnummer, bankkontonummer, IP-adresser, produktnycklar, serienummer, spårningsnummer för frakt, etc.\n",
    "    Kreditkort - Alla kreditkortsnummer, säkerhetskoder eller utgångsdatum.\n",
    "\"\"\"\n",
    "\n",
    "\n",
    "def query(text):\n",
    "    prompt = prompt_template + \"\\n\\nText:\\n\" + text\n",
    "    response = requests.post(\n",
    "        url=\"https://openrouter.ai/api/v1/chat/completions\",\n",
    "        headers={\n",
    "            \"Authorization\": f\"Bearer {OPENROUTER_API_KEY}\",\n",
    "            \"Content-Type\": \"application/json\"\n",
    "        },\n",
    "        data=json.dumps({\n",
    "            \"model\": \"qwen/qwen-110b-chat\",\n",
    "            \"messages\": [\n",
    "                {\"role\": \"system\", \"content\": \"Du är en hjälpful assistent, designad för att markera PII i text.\"},\n",
    "                {\"role\": \"user\", \"content\": prompt}\n",
    "            ]\n",
    "        })\n",
    "    )\n",
    "\n",
    "    if response.status_code == 200:\n",
    "        response_data = response.json()\n",
    "        return response_data['choices'][0]['message']['content']\n",
    "    else:\n",
    "        raise Exception(f\"API request failed with status code {response.status_code}: {response.text}\")\n",
    "\n",
    "def process_folder(input_folder, output_folder):\n",
    "    if not os.path.exists(output_folder):\n",
    "        os.makedirs(output_folder)\n",
    "\n",
    "    total_start_time = time.time()\n",
    "    for filename in os.listdir(input_folder):\n",
    "        input_path = os.path.join(input_folder, filename)\n",
    "        output_path = os.path.join(output_folder, filename)\n",
    "\n",
    "        if os.path.isfile(input_path):\n",
    "            with open(input_path, 'r', encoding='utf-8') as file:\n",
    "                text = file.read()\n",
    "            \n",
    "            marked_text = query(text)\n",
    "            \n",
    "            with open(output_path, 'w', encoding='utf-8') as file:\n",
    "                file.write(marked_text)\n",
    "\n",
    "\n",
    "    total_end_time = time.time()  # End timing for all files\n",
    "    total_time = total_end_time - total_start_time\n",
    "\n",
    "    # Print total processing time\n",
    "    print(f\"Total processing time for all files: {total_time:.2f} seconds.\")\n",
    "    \n",
    "input_folder = \"generated_texts\"  # Input folder name\n",
    "output_folder = \"marked_texts/qwen110b\"    # Output folder name\n",
    "\n",
    "process_folder(input_folder, output_folder)\n",
    "print(\"Marking complete.\")\n"
   ]
  },
  {
   "cell_type": "markdown",
   "id": "52953d39-0920-4620-9365-67552eaa9bff",
   "metadata": {},
   "source": [
    "**Anonymization agent**\n",
    "\n",
    "Replaces the markers with an anonymization tag"
   ]
  },
  {
   "cell_type": "code",
   "execution_count": 139,
   "id": "81a1c269-4333-4b34-9333-4c988e45a9a5",
   "metadata": {},
   "outputs": [],
   "source": [
    "def anonymize(text):\n",
    "    # Replaces the PII with [ANONYMIZED] and removes the brackets\n",
    "    anonymized_text = re.sub(r'<.*?>.*?</.*?>', '[ANONYMIZED]', text)\n",
    "    return anonymized_text\n",
    "\n",
    "\n",
    "def process_folder(input_folder, output_folder):\n",
    "    if not os.path.exists(output_folder):\n",
    "        os.makedirs(output_folder)\n",
    "\n",
    "    for filename in os.listdir(input_folder):\n",
    "        input_path = os.path.join(input_folder, filename)\n",
    "        output_path = os.path.join(output_folder, filename)\n",
    "\n",
    "        if os.path.isfile(input_path):\n",
    "            with open(input_path, 'r', encoding='utf-8') as file:\n",
    "                text = file.read()\n",
    "            \n",
    "            anonymized_text = anonymize(text)\n",
    "\n",
    "            with open(output_path, 'w', encoding='utf-8') as file:\n",
    "                file.write(anonymized_text)\n",
    "\n",
    "input_folder = \"marked_texts/llama70b\"\n",
    "output_folder = \"anonymized_texts/llama70b\"\n",
    "\n",
    "process_folder(input_folder, output_folder)"
   ]
  },
  {
   "cell_type": "markdown",
   "id": "fd2edd43-36c6-429a-9343-192bcdef07a9",
   "metadata": {},
   "source": [
    "**Simple Verification agent**\n",
    "\n",
    "Double checks that there are no markers left in the texts.\n",
    "There could still be markers if they existed in the original text and where not created by the marking agent"
   ]
  },
  {
   "cell_type": "code",
   "execution_count": 140,
   "id": "df522814-0887-4df0-a26a-2e80d9c85cd1",
   "metadata": {},
   "outputs": [
    {
     "name": "stdout",
     "output_type": "stream",
     "text": [
      "[] 0\n"
     ]
    }
   ],
   "source": [
    "def verify(text):\n",
    "    # Verify if all PII has been anonymized\n",
    "    return '<' not in text and '>' not in text\n",
    "\n",
    "def verify_folder(folder_path): \n",
    "    global count\n",
    "    failed_files = []\n",
    "    for filename in os.listdir(folder_path):\n",
    "        file_path = os.path.join(folder_path, filename)\n",
    "        if os.path.isfile(file_path):\n",
    "            with open(file_path, 'r', encoding='utf-8') as file:\n",
    "                text = file.read()\n",
    "                if not verify(text):\n",
    "                    failed_files.append(filename)\n",
    "                    count += 1\n",
    "    return failed_files\n",
    "count = 0\n",
    "failed_files = verify_folder(\"anonymized_texts/llama70b\")\n",
    "print(failed_files, count)"
   ]
  },
  {
   "cell_type": "markdown",
   "id": "4778401b-8482-4ac2-b36c-e88b985d2620",
   "metadata": {},
   "source": [
    "**Testing Agent using GPT-4-Turbo**"
   ]
  },
  {
   "cell_type": "code",
   "execution_count": 147,
   "id": "d743a8e6-edc2-4372-a122-2ebad552754c",
   "metadata": {},
   "outputs": [
    {
     "name": "stdout",
     "output_type": "stream",
     "text": [
      "text_16.txt\n",
      "text_2.txt\n",
      "text_22.txt\n",
      "text_27.txt\n",
      "text_3.txt\n",
      "text_30.txt\n",
      "text_31.txt\n",
      "text_40.txt\n",
      "text_45.txt\n",
      "text_60.txt\n",
      "text_65.txt\n",
      "text_66.txt\n",
      "text_67.txt\n",
      "text_68.txt\n",
      "text_80.txt\n",
      "text_82.txt\n",
      "text_84.txt\n",
      "text_85.txt\n",
      "text_89.txt\n",
      "text_92.txt\n",
      "text_94.txt\n",
      "text_96.txt\n",
      "Files with PII: 22\n",
      "Files without PII: 78\n",
      "Errors encountered: 0\n"
     ]
    }
   ],
   "source": [
    "prompt_template = f\"\"\"\n",
    "Granska följande text och ange om den innehåller någon personlig identifierbar information som namn, telefonnummer, e-postadresser, adresser eller andra identifierbara uppgifter.\n",
    "Anonymizerad text räknas inte som personlig identifierbar information.\n",
    "Svara endast med 'ja' eller 'nej':\n",
    "\n",
    "\"\"\"\n",
    "    \n",
    "def check_for_pii(text):\n",
    "    prompt = prompt_template + \"\\n\\nText:\\n\" + text\n",
    "    response = requests.post(\n",
    "        url=\"https://openrouter.ai/api/v1/chat/completions\",\n",
    "        headers={\n",
    "            \"Authorization\": f\"Bearer {OPENROUTER_API_KEY}\",\n",
    "            \"Content-Type\": \"application/json\"\n",
    "        },\n",
    "        data=json.dumps({\n",
    "            \"model\": \"openai/gpt-4-turbo\",\n",
    "            \"messages\": [\n",
    "                {\"role\": \"system\", \"content\": \"Du är en hjälpful assistent, designad för att granska text data och svara med ja eller nej.\"},\n",
    "                {\"role\": \"user\", \"content\": prompt}\n",
    "            ],\n",
    "            \"temperature\": 0.1,\n",
    "            \"max_tokens\": 1,\n",
    "            \"top_p\": 1.0,\n",
    "        })\n",
    "    )\n",
    "\n",
    "    if response.status_code == 200:\n",
    "        response_data = response.json()\n",
    "        return response_data[\"choices\"][0][\"message\"][\"content\"]\n",
    "    else:\n",
    "        raise Exception(f\"API request failed with status code {response.status_code}: {response.text}\")\n",
    "\n",
    "\n",
    "def process_folder(input_folder):\n",
    "    yes_files_llama_70b = []\n",
    "    no_files_llama_70b = []\n",
    "    errors_llama_70b = 0\n",
    "\n",
    "    # Loop through each file in the directory\n",
    "    for i, filename in enumerate(os.listdir(input_folder)):\n",
    "        file_path = os.path.join(input_folder, filename)\n",
    "        \n",
    "        if os.path.isfile(file_path):\n",
    "            with open(file_path, \"r\", encoding=\"utf-8\") as file:\n",
    "                text = file.read()\n",
    "            \n",
    "            try:\n",
    "                response = check_for_pii(text)\n",
    "                if response.strip().lower() == \"ja\":\n",
    "                    yes_files_llama_70b.append(filename)  # Store the file name to later plot the graph\n",
    "                    print(filename)\n",
    "                elif response.strip().lower() == \"nej\":\n",
    "                    no_files_llama_70b.append(filename)\n",
    "            except Exception as e:\n",
    "                print(f\"Error processing file {filename}: {str(e)}\")\n",
    "                errors_llama_70b += 1\n",
    "\n",
    "    return yes_files_llama_70b, no_files_llama_70b, errors_llama_70b\n",
    "\n",
    "input_folder = \"anonymized_texts/llama70b\"\n",
    "\n",
    "yes_files, no_files, error_count = process_folder(input_folder)\n",
    "\n",
    "print(f\"Files with PII: {len(yes_files_llama_70b)}\")\n",
    "print(f\"Files without PII: {len(no_files_llama_70b)}\")\n",
    "print(f\"Errors encountered: {error_count_llama_70b}\")"
   ]
  },
  {
   "cell_type": "code",
   "execution_count": 161,
   "id": "1b45189d-8658-4868-b888-09d494e9614f",
   "metadata": {},
   "outputs": [
    {
     "data": {
      "image/png": "[encoded data removed]",
      "text/plain": [
       "<Figure size 1000x600 with 1 Axes>"
      ]
     },
     "metadata": {},
     "output_type": "display_data"
    }
   ],
   "source": [
    "import matplotlib.pyplot as plt\n",
    "\n",
    "def create_cumulative_graph(yes_files_llama_70b, total_files):\n",
    "    x = []\n",
    "    y = []\n",
    "    \n",
    "    cumulative_count = 0\n",
    "    for i in range(total_files):\n",
    "        if f\"text_{i+1}.txt\" in yes_files_llama_70b:\n",
    "            cumulative_count += 1\n",
    "            x.append(i + 1)\n",
    "            y.append(cumulative_count)\n",
    "\n",
    "    plt.figure(figsize=(10, 6))\n",
    "    plt.plot(x, y, marker='o')\n",
    "    plt.xlabel('Files')\n",
    "    plt.ylabel('Cumulative Count of Files with PII')\n",
    "    plt.title('Cumulative Files Containing PII')\n",
    "    plt.xticks(range(1, total_files + 1, 5))\n",
    "    plt.grid(True)\n",
    "    plt.xlim(1, total_files)\n",
    "    plt.show()\n",
    "\n",
    "# There is 100 text files\n",
    "total_files = 100\n",
    "\n",
    "# Create the cumulative graph\n",
    "create_cumulative_graph(yes_files_llama_70b, total_files)\n"
   ]
  },
  {
   "cell_type": "code",
   "execution_count": 149,
   "id": "28e03981-86d2-4fb8-a271-f85399409084",
   "metadata": {},
   "outputs": [],
   "source": [
    "data = {\n",
    "    'Model': ['Presidio', 'llama-3-70b', 'llama-3-8b','qwen-110b'],\n",
    "    'Without PII': [1, 78, 72, 68],\n",
    "    'Processing Time (s)': [0, 733, 406, 639],\n",
    "    'Processing Time per File (s)': [0, 7.33, 4.06, 6.39],\n",
    "}\n",
    "\n",
    "df = pd.DataFrame(data)\n",
    "\n",
    "df.to_excel('results.xlsx', index=False)"
   ]
  },
  {
   "cell_type": "code",
   "execution_count": null,
   "id": "46382838-f017-4626-819e-159f56577714",
   "metadata": {},
   "outputs": [],
   "source": []
  },
  {
   "cell_type": "code",
   "execution_count": 130,
   "id": "b099a85f-6d1a-4e51-a476-459eb505a5ef",
   "metadata": {},
   "outputs": [
    {
     "data": {
      "image/png": "[encoded data removed]",
      "text/plain": [
       "<Figure size 1000x600 with 1 Axes>"
      ]
     },
     "metadata": {},
     "output_type": "display_data"
    }
   ],
   "source": [
    "# Plotting only the 'Without PII' data\n",
    "ax = df.set_index('Model')['Without PII'].plot(kind='bar', stacked=False, figsize=(10, 6))\n",
    "\n",
    "# Title and labels\n",
    "plt.title('Files with no PII Detected')\n",
    "plt.xlabel('Model')\n",
    "plt.ylabel('Number of Files')\n",
    "plt.xticks(rotation=0) \n",
    "plt.legend(title='Category')\n",
    "plt.show()"
   ]
  },
  {
   "cell_type": "code",
   "execution_count": 137,
   "id": "5e95b213-90a9-4493-99da-7e404823ad54",
   "metadata": {},
   "outputs": [
    {
     "data": {
      "image/png": "[encoded data removed]",
      "text/plain": [
       "<Figure size 1000x600 with 1 Axes>"
      ]
     },
     "metadata": {},
     "output_type": "display_data"
    }
   ],
   "source": [
    "ax = df.set_index('Model')['Processing Time (s)'].plot(kind='bar', stacked=False, figsize=(10, 6))\n",
    "plt.xlabel('Model')\n",
    "plt.ylabel('Processing Time (s)')\n",
    "plt.title('Processing Time Comparison')\n",
    "plt.xticks(rotation=0)\n",
    "plt.legend(title='Category')\n",
    "plt.show()\n"
   ]
  },
  {
   "cell_type": "code",
   "execution_count": null,
   "id": "598925ba-aa1c-43dd-ae55-88fd44602efe",
   "metadata": {},
   "outputs": [],
   "source": []
  },
  {
   "cell_type": "code",
   "execution_count": 29,
   "id": "85fdf0d8-7130-46d8-91f8-6da7415edca1",
   "metadata": {},
   "outputs": [],
   "source": [
    "\n",
    "\n",
    "class PiiProcessor:\n",
    "    def __init__(self, marking_agent, anonymization_agent, verification_agent):\n",
    "        self.marking_agent = marking_agent\n",
    "        self.anonymization_agent = anonymization_agent\n",
    "        self.verification_agent = verification_agent\n",
    "\n",
    "        # Define the chain of processes using LLMChain\n",
    "        self.chain = self.create_chain()\n",
    "\n",
    "    def create_chain(self):\n",
    "        # Define the LLM for marking\n",
    "        marking_prompt = PromptTemplate(input_variables=[\"text\"], template=self.marking_agent.prompt_template + \"\\n\\nText:\\n{text}\")\n",
    "        marking_llm = LLaMA(api_key=self.marking_agent.api_key, model=self.marking_agent.model)\n",
    "        marking_chain = LLMChain(prompt=marking_prompt, llm=marking_llm)\n",
    "\n",
    "        # Define the anonymization and verification as functions\n",
    "        def anonymization_step(text):\n",
    "            return self.anonymization_agent.anonymize(text)\n",
    "        \n",
    "        def verification_step(text):\n",
    "            if not self.verification_agent.verify(text):\n",
    "                raise Exception(\"Anonymization failed for the text.\")\n",
    "            return text\n",
    "\n",
    "        return LLMChain(\n",
    "            chains=[\n",
    "                marking_chain,\n",
    "                anonymization_step,\n",
    "                verification_step\n",
    "            ]\n",
    "        )\n",
    "\n",
    "    def process_text(self, text):\n",
    "        return self.chain.run({\"text\": text})\n"
   ]
  },
  {
   "cell_type": "code",
   "execution_count": 30,
   "id": "1bb72e4d-ca99-46b7-8ac1-102e3781673b",
   "metadata": {},
   "outputs": [
    {
     "ename": "NameError",
     "evalue": "name 'LLaMA' is not defined",
     "output_type": "error",
     "traceback": [
      "\u001b[1;31m---------------------------------------------------------------------------\u001b[0m",
      "\u001b[1;31mNameError\u001b[0m                                 Traceback (most recent call last)",
      "Cell \u001b[1;32mIn[30], line 7\u001b[0m\n\u001b[0;32m      4\u001b[0m verification_agent \u001b[38;5;241m=\u001b[39m VerificationAgent()\n\u001b[0;32m      6\u001b[0m \u001b[38;5;66;03m# Initialize the LangChain processor with the agents\u001b[39;00m\n\u001b[1;32m----> 7\u001b[0m pii_processor \u001b[38;5;241m=\u001b[39m PiiProcessor(pii_detector, anonymization_agent, verification_agent)\n\u001b[0;32m      9\u001b[0m input_folder \u001b[38;5;241m=\u001b[39m \u001b[38;5;124m\"\u001b[39m\u001b[38;5;124mgenerated_texts2\u001b[39m\u001b[38;5;124m\"\u001b[39m\n\u001b[0;32m     10\u001b[0m output_folder \u001b[38;5;241m=\u001b[39m \u001b[38;5;124m\"\u001b[39m\u001b[38;5;124manonymized_texts2\u001b[39m\u001b[38;5;124m\"\u001b[39m\n",
      "Cell \u001b[1;32mIn[29], line 8\u001b[0m, in \u001b[0;36mPiiProcessor.__init__\u001b[1;34m(self, marking_agent, anonymization_agent, verification_agent)\u001b[0m\n\u001b[0;32m      5\u001b[0m \u001b[38;5;28mself\u001b[39m\u001b[38;5;241m.\u001b[39mverification_agent \u001b[38;5;241m=\u001b[39m verification_agent\n\u001b[0;32m      7\u001b[0m \u001b[38;5;66;03m# Define the chain of processes using LLMChain\u001b[39;00m\n\u001b[1;32m----> 8\u001b[0m \u001b[38;5;28mself\u001b[39m\u001b[38;5;241m.\u001b[39mchain \u001b[38;5;241m=\u001b[39m \u001b[38;5;28mself\u001b[39m\u001b[38;5;241m.\u001b[39mcreate_chain()\n",
      "Cell \u001b[1;32mIn[29], line 13\u001b[0m, in \u001b[0;36mPiiProcessor.create_chain\u001b[1;34m(self)\u001b[0m\n\u001b[0;32m     10\u001b[0m \u001b[38;5;28;01mdef\u001b[39;00m \u001b[38;5;21mcreate_chain\u001b[39m(\u001b[38;5;28mself\u001b[39m):\n\u001b[0;32m     11\u001b[0m     \u001b[38;5;66;03m# Define the LLM for marking\u001b[39;00m\n\u001b[0;32m     12\u001b[0m     marking_prompt \u001b[38;5;241m=\u001b[39m PromptTemplate(input_variables\u001b[38;5;241m=\u001b[39m[\u001b[38;5;124m\"\u001b[39m\u001b[38;5;124mtext\u001b[39m\u001b[38;5;124m\"\u001b[39m], template\u001b[38;5;241m=\u001b[39m\u001b[38;5;28mself\u001b[39m\u001b[38;5;241m.\u001b[39mmarking_agent\u001b[38;5;241m.\u001b[39mprompt_template \u001b[38;5;241m+\u001b[39m \u001b[38;5;124m\"\u001b[39m\u001b[38;5;130;01m\\n\u001b[39;00m\u001b[38;5;130;01m\\n\u001b[39;00m\u001b[38;5;124mText:\u001b[39m\u001b[38;5;130;01m\\n\u001b[39;00m\u001b[38;5;132;01m{text}\u001b[39;00m\u001b[38;5;124m\"\u001b[39m)\n\u001b[1;32m---> 13\u001b[0m     marking_llm \u001b[38;5;241m=\u001b[39m LLaMA(api_key\u001b[38;5;241m=\u001b[39m\u001b[38;5;28mself\u001b[39m\u001b[38;5;241m.\u001b[39mmarking_agent\u001b[38;5;241m.\u001b[39mapi_key, model\u001b[38;5;241m=\u001b[39m\u001b[38;5;28mself\u001b[39m\u001b[38;5;241m.\u001b[39mmarking_agent\u001b[38;5;241m.\u001b[39mmodel)\n\u001b[0;32m     14\u001b[0m     marking_chain \u001b[38;5;241m=\u001b[39m LLMChain(prompt\u001b[38;5;241m=\u001b[39mmarking_prompt, llm\u001b[38;5;241m=\u001b[39mmarking_llm)\n\u001b[0;32m     16\u001b[0m     \u001b[38;5;66;03m# Define the anonymization and verification as functions\u001b[39;00m\n",
      "\u001b[1;31mNameError\u001b[0m: name 'LLaMA' is not defined"
     ]
    }
   ],
   "source": [
    "# Usage\n",
    "pii_detector = MarkingAgent(OPENROUTER_API_KEY)\n",
    "anonymization_agent = AnonymizationAgent()\n",
    "verification_agent = VerificationAgent()\n",
    "\n",
    "# Initialize the LangChain processor with the agents\n",
    "pii_processor = PiiProcessor(pii_detector, anonymization_agent, verification_agent)\n",
    "\n",
    "input_folder = \"generated_texts2\"\n",
    "output_folder = \"anonymized_texts2\"\n",
    "\n",
    "process_folder(input_folder, output_folder, pii_processor)\n",
    "\n",
    "print(\"Texter genererade och sparade.\")\n"
   ]
  },
  {
   "cell_type": "code",
   "execution_count": null,
   "id": "ee17905f-cf33-4653-bb50-79a47ed5c953",
   "metadata": {},
   "outputs": [],
   "source": [
    "# Initialize the chain with the agents\n",
    "pii_chain = PIIAnonymizationChain(pii_detector, pii_anonymizer, pii_verifier)\n",
    "\n",
    "# Test with some input text\n",
    "input_text = \"Felix's email is felix@example.com.\"\n",
    "output_text = pii_chain(input_text)\n",
    "print(output_text)"
   ]
  }
 ],
 "metadata": {
  "kernelspec": {
   "display_name": "Python 3 (ipykernel)",
   "language": "python",
   "name": "python3"
  },
  "language_info": {
   "codemirror_mode": {
    "name": "ipython",
    "version": 3
   },
   "file_extension": ".py",
   "mimetype": "text/x-python",
   "name": "python",
   "nbconvert_exporter": "python",
   "pygments_lexer": "ipython3",
   "version": "3.12.2"
  }
 },
 "nbformat": 4,
 "nbformat_minor": 5
}
